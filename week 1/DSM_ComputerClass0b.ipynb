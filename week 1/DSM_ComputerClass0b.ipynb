{
 "cells": [
  {
   "cell_type": "markdown",
   "metadata": {},
   "source": [
    "# Computer Class 0b - The NumPy Library\n",
    "\n",
    "The examples and exercises of this computer class introduce the student to working with the NumPy library. It can be used in conjunction with chapter 4 of the McKinney book.\n",
    "\n",
    "*Authors: Cees Diks and Bram Wouters, Faculty Economics and Business, University of Amsterdam (UvA)* <br>\n",
    "*Copyright (C): UvA (2023)* <br>\n",
    "*Credits: some of the examples and formulations are taken from McKinney and/or the material of the Computational Finance course by Simon Broda (UvA)*"
   ]
  },
  {
   "cell_type": "markdown",
   "metadata": {
    "slideshow": {
     "slide_type": "slide"
    }
   },
   "source": [
    "## Modules\n",
    "\n",
    "Apart from the built-in objects, functions, etc. of the Python Standard Library, packages and modules for additional functionality need to be imported. Most of the packages/modules relevant for this course come preinstalled with Anaconda.\n"
   ]
  },
  {
   "cell_type": "markdown",
   "metadata": {},
   "source": [
    "**Example:** importing modules can be done with `import`. There are some conventions for the shorthands of some packages (e.g., `np` for `numpy`). Following them improves code readability. For the same reason, it is good practice to put your `import` statements at the beginning of your document (which we didn't do in this notebook)."
   ]
  },
  {
   "cell_type": "code",
   "execution_count": 1,
   "metadata": {},
   "outputs": [
    {
     "name": "stdout",
     "output_type": "stream",
     "text": [
      "5040\n",
      "1.4142135623730951\n",
      "1.4142135623730951\n",
      "1.4142135623730951\n"
     ]
    }
   ],
   "source": [
    "import math  # Importing the math module of the Python Standard Library.\n",
    "import numpy as np # Importing the NumPy module and giving it the conventional shorthand name np.\n",
    "\n",
    "print(math.factorial(7)) # Calling functions from the math modules requires the math.-prefix.\n",
    "\n",
    "# Note that the following functions are not the same functions, because they are defined in different modules.\n",
    "print(2**(1/2)) # Using Python's basic arithmetic functionality\n",
    "print(math.sqrt(2)) # Using the square root function of math\n",
    "print(np.sqrt(2)) # Using the square root function of NumPy"
   ]
  },
  {
   "cell_type": "markdown",
   "metadata": {},
   "source": [
    "**Exercise 1:** you can use *tab completion* to discover which functions are defined by the math module: type `math.` and press the Tab key. Alternatively, use dir(math). Try both options!"
   ]
  },
  {
   "cell_type": "code",
   "execution_count": null,
   "metadata": {},
   "outputs": [],
   "source": []
  },
  {
   "cell_type": "markdown",
   "metadata": {
    "slideshow": {
     "slide_type": "slide"
    }
   },
   "source": [
    "**Example:**  note that importing the package/module does not bring the functions into the *global namespace*: they need to be called as `module.function()`. It is possible to bring a function into the global namespace (see example below). Heavy use of this option is discouraged, because it can lead to confusion and/or conflicting functions names."
   ]
  },
  {
   "cell_type": "code",
   "execution_count": 2,
   "metadata": {},
   "outputs": [
    {
     "data": {
      "text/plain": [
       "5040"
      ]
     },
     "execution_count": 2,
     "metadata": {},
     "output_type": "execute_result"
    }
   ],
   "source": [
    "from math import factorial # Importing the math-function factorial into the global namespace\n",
    "\n",
    "factorial(7)"
   ]
  },
  {
   "cell_type": "markdown",
   "metadata": {},
   "source": [
    "## Numpy's ndarray\n",
    "\n",
    "Arguably the most important object of the NumPy package is its N-dimensional array object, or ndarray. Using them is efficient in two ways:\n",
    "* they are easy/intuitive to use and very flexible, meaning that there is an implementation for most operations you can think of.\n",
    "* they are computationally efficient (i.e. much faster than Python's standard objects, like lists and tuples)."
   ]
  },
  {
   "cell_type": "markdown",
   "metadata": {},
   "source": [
    "**Example:** the NumPy function `array` converts the input data (e.g. list, tuple, array, or other sequence type) to an ndarray."
   ]
  },
  {
   "cell_type": "code",
   "execution_count": 3,
   "metadata": {},
   "outputs": [
    {
     "data": {
      "text/plain": [
       "array([ 1. ,  5.1, -8.9,  0.2])"
      ]
     },
     "execution_count": 3,
     "metadata": {},
     "output_type": "execute_result"
    }
   ],
   "source": [
    "arr1 = np.array([1.0, 5.1, -8.9, 0.2])\n",
    "arr2 = np.array([[1,2,3,4],[5,6,7,8]])\n",
    "\n",
    "arr1"
   ]
  },
  {
   "cell_type": "code",
   "execution_count": 4,
   "metadata": {},
   "outputs": [
    {
     "data": {
      "text/plain": [
       "array([[1, 2, 3, 4],\n",
       "       [5, 6, 7, 8]])"
      ]
     },
     "execution_count": 4,
     "metadata": {},
     "output_type": "execute_result"
    }
   ],
   "source": [
    "arr2"
   ]
  },
  {
   "cell_type": "markdown",
   "metadata": {},
   "source": [
    "**Example:** the objects `arr1` and `arr2` are of ndarray type."
   ]
  },
  {
   "cell_type": "code",
   "execution_count": 5,
   "metadata": {},
   "outputs": [
    {
     "name": "stdout",
     "output_type": "stream",
     "text": [
      "True\n"
     ]
    },
    {
     "data": {
      "text/plain": [
       "numpy.ndarray"
      ]
     },
     "execution_count": 5,
     "metadata": {},
     "output_type": "execute_result"
    }
   ],
   "source": [
    "print(isinstance(arr1, np.ndarray))\n",
    "\n",
    "type(arr2)"
   ]
  },
  {
   "cell_type": "markdown",
   "metadata": {},
   "source": [
    "**Example:** all ndarrays have attributes dimension (`ndim`), shape (`shape`) and type of data that it contains (`dtype`). "
   ]
  },
  {
   "cell_type": "code",
   "execution_count": 6,
   "metadata": {},
   "outputs": [
    {
     "name": "stdout",
     "output_type": "stream",
     "text": [
      "1\n",
      "(4,)\n",
      "float64\n",
      "2\n",
      "(2, 4)\n",
      "int64\n"
     ]
    }
   ],
   "source": [
    "print(arr1.ndim)\n",
    "print(arr1.shape)\n",
    "print(arr1.dtype)\n",
    "\n",
    "print(arr2.ndim)\n",
    "print(arr2.shape)\n",
    "print(arr2.dtype)"
   ]
  },
  {
   "cell_type": "markdown",
   "metadata": {},
   "source": [
    "**Example:** an ndarray is a container for homogeneous data, meaning that all data must be of the same type. It is important to keep this in mind, because Python will automatically transform data when uploaded into an ndarray. Using the `dtype` keyword in the `array` function, you can overrule this."
   ]
  },
  {
   "cell_type": "code",
   "execution_count": 7,
   "metadata": {},
   "outputs": [
    {
     "data": {
      "text/plain": [
       "array([1., 2., 3., 4.])"
      ]
     },
     "execution_count": 7,
     "metadata": {},
     "output_type": "execute_result"
    }
   ],
   "source": [
    "np.array([1, 2, 3, 4.0])"
   ]
  },
  {
   "cell_type": "code",
   "execution_count": 8,
   "metadata": {},
   "outputs": [
    {
     "data": {
      "text/plain": [
       "array([1, 2, 3, 4])"
      ]
     },
     "execution_count": 8,
     "metadata": {},
     "output_type": "execute_result"
    }
   ],
   "source": [
    "np.array([1, 2, 3, 4.0], dtype=int)"
   ]
  },
  {
   "cell_type": "code",
   "execution_count": 9,
   "metadata": {},
   "outputs": [
    {
     "data": {
      "text/plain": [
       "array(['1', '2', '3', '4'], dtype='<U21')"
      ]
     },
     "execution_count": 9,
     "metadata": {},
     "output_type": "execute_result"
    }
   ],
   "source": [
    "np.array([1, 2, 3, '4'])"
   ]
  },
  {
   "cell_type": "code",
   "execution_count": 10,
   "metadata": {},
   "outputs": [
    {
     "data": {
      "text/plain": [
       "array([1., 2., 3., 4.])"
      ]
     },
     "execution_count": 10,
     "metadata": {},
     "output_type": "execute_result"
    }
   ],
   "source": [
    "np.array([1, 2, 3, '4'], dtype=np.float64) # float64 is a NumPy object of double-precision floating-point format"
   ]
  },
  {
   "cell_type": "markdown",
   "metadata": {},
   "source": [
    "**Example:** typical other ways of creating an ndarray."
   ]
  },
  {
   "cell_type": "code",
   "execution_count": 11,
   "metadata": {},
   "outputs": [
    {
     "name": "stdout",
     "output_type": "stream",
     "text": [
      "[[0. 0. 0.]\n",
      " [0. 0. 0.]]\n",
      "[[1. 1. 1. 1. 1. 1. 1. 1.]]\n",
      "[[1. 0. 0. 0. 0.]\n",
      " [0. 1. 0. 0. 0.]\n",
      " [0. 0. 1. 0. 0.]\n",
      " [0. 0. 0. 1. 0.]\n",
      " [0. 0. 0. 0. 1.]]\n",
      "[ 1  3  5  7  9 11 13]\n",
      "[[ 0.95048318 -1.32839753 -0.31033462 -0.65608246]\n",
      " [-0.78131663  0.0540972   0.4330958   1.60287434]]\n"
     ]
    }
   ],
   "source": [
    "print(np.zeros((2,3))) # 2x3 ndarray of zeros (floats).\n",
    "print(np.ones((1,8))) # 1x8 ndarry of ones (floats).\n",
    "\n",
    "print(np.identity(5)) # 5x5 identity matrix (floats).\n",
    "\n",
    "print(np.arange(1, 15, 2)) # Using the arange function with (start, stop[, step]).\n",
    "\n",
    "arr3 = np.random.randn(2,4) # Using NumPy's random number generator to create a 2x4 ndarray.\n",
    "\n",
    "print(arr3)"
   ]
  },
  {
   "cell_type": "markdown",
   "metadata": {},
   "source": [
    "**Exercise 2:** in contrast to Python's list objects, arithmetic operations on an ndarray are executed element-by-element. Use this to create and print the following ndarrays:\n",
    "* element-by-element sum of `arr2` and `arr3`.\n",
    "* element-by-element product of `arr2` and `arr3`.\n",
    "* elements of `arr3` multiplied by a factor of 10.\n",
    "* elements of `arr2` to the power 4.\n",
    "\n",
    "* one divided by the elements of `arr2`."
   ]
  },
  {
   "cell_type": "code",
   "execution_count": null,
   "metadata": {},
   "outputs": [],
   "source": []
  },
  {
   "cell_type": "markdown",
   "metadata": {},
   "source": [
    "## Indexing and slicing\n",
    "\n",
    "The basics of selecting elements or slices of an ndarray are the same as for other sequence types. Most of the time (the exception is so-called \"fancy slicing\"), the extra dimensions are separated by a comma between the brackets `[]`. For the exercises in this subsection, you may want to use pp. 94-105 of McKinney."
   ]
  },
  {
   "cell_type": "code",
   "execution_count": 12,
   "metadata": {},
   "outputs": [
    {
     "name": "stdout",
     "output_type": "stream",
     "text": [
      "arr1D:\n",
      " [ 1  2  3  4  5  6  7  8  9 10]\n",
      "arr2D:\n",
      " [[ 1  2  3  4  5  6]\n",
      " [ 7  8  9 10 11 12]\n",
      " [13 14 15 16 17 18]\n",
      " [19 20 21 22 23 24]]\n",
      "arr3D:\n",
      " [[[ 1  2  3]\n",
      "  [ 4  5  6]]\n",
      "\n",
      " [[ 7  8  9]\n",
      "  [10 11 12]]]\n"
     ]
    }
   ],
   "source": [
    "arr1D = np.arange(1,11)\n",
    "arr2D = np.arange(1,25).reshape(4,6)\n",
    "arr3D = np.arange(1,13).reshape(2,2,3)\n",
    "\n",
    "print('arr1D:\\n {0}'.format(arr1D))\n",
    "print('arr2D:\\n {0}'.format(arr2D))\n",
    "print('arr3D:\\n {0}'.format(arr3D))"
   ]
  },
  {
   "cell_type": "markdown",
   "metadata": {},
   "source": [
    "**Exercise 3:** use the arrays `arr1D`, `arr2D` and `arr3D` defined above to print the following objects.\n",
    "* for `arr1D`: the fifth element.\n",
    "* for `arr1D`: the array containing (only) the fifth element.\n",
    "* for `arr1D`: the array containing the third until the nineth element.\n",
    "* for `arr1D`: the array containing the first, second and seventh element. (see p.103 of McKinney)\n",
    "\n",
    "\n",
    "* for `arr2D`: the element in the second row and third column.\n",
    "* for `arr2D`: the array that is the fourth row.\n",
    "* for `arr2D`: the array containing the second and the third row.\n",
    "* for `arr2D`: the array containing the first and third row.\n",
    "* for `arr2D`: the array containing the first and second row, but only the third until the fifth column thereof.\n",
    "* for `arr2D`: the array containing the fifth and sixth column.\n",
    "* for `arr2D`: the array containing the fifth and sixth column, which are represented as rows. (Hint: use `tranpose()`, or simply `T`)\n",
    "* for `arr2D`: the 1-dimensional array containing the elements whose values are 1, 22, 12 and 3. (i.e., the output should be `[1,22,12,3]`) (see p.103 of McKinney, use fancy indexing)\n",
    "* for `arr2D`: the array containing the first, second and fourth row, but only the fourth and second column thereof (in that order). (see p.103 of McKinney)\n",
    "\n",
    "\n",
    "* for `arr3D`: the first 2-dimensional array of `arr3D`.\n",
    "* for `arr3D`: the 2-dimensional array that looks like `[[5,6],[11,12]]`.\n",
    "* for `arr3D`: the 1-dimensional array containing the elements whose values are 1, 5 and 9 (in that order). (see p.103 of McKinney, use fancy indexing)"
   ]
  },
  {
   "cell_type": "code",
   "execution_count": null,
   "metadata": {},
   "outputs": [],
   "source": []
  },
  {
   "cell_type": "markdown",
   "metadata": {},
   "source": [
    "**Example:** assigning a single value to a slice of an ndarray means propagation (also called: \"broadcasted\") to the entire selection."
   ]
  },
  {
   "cell_type": "code",
   "execution_count": 13,
   "metadata": {},
   "outputs": [
    {
     "name": "stdout",
     "output_type": "stream",
     "text": [
      "[ 0  1  2 10 10 10  6  7  8  9]\n",
      "[ 0  1  2 12 12 12  6  7  8  9]\n"
     ]
    }
   ],
   "source": [
    "arr = np.arange(10)\n",
    "\n",
    "arr[3:6] = [10, 10, 10]\n",
    "print(arr)\n",
    "\n",
    "arr[3:6] = 12 # Broadcasting to entire selection\n",
    "print(arr)"
   ]
  },
  {
   "cell_type": "markdown",
   "metadata": {},
   "source": [
    "**Example:** there is a subtle difference between slicing an ndarray and slicing other sequence types (like a list). A slice of an array is a \"view\" on the original slice. This means that the data is not copied, and any modifications to the view will be reflected in the original array (and vice versa). This is in contrast with a list object for example, in which case a slice is a copy of the original data and hence a new object in the memory of your machine. (see McKinney pp. 94-95 for more information)\n",
    "\n",
    "In the example below we take slices of a list and an ndarray, change the originals and inspect what happens to the slices. For completeness, we also included the corresponding elements (as opposed to slices). Elements are always copies, regardless of the sequence type.\n",
    "\n",
    "N.B. If you want a slice to be a copy of the data instead of a view, you can use the ndarray method `copy`."
   ]
  },
  {
   "cell_type": "code",
   "execution_count": 14,
   "metadata": {},
   "outputs": [
    {
     "name": "stdout",
     "output_type": "stream",
     "text": [
      "list: [0, 1, 12, 3]\n",
      "array: [ 0  1 12  3]\n",
      "list_element: 2\n",
      "array_element: 2\n",
      "list_slice: [2]\n",
      "array_slice: [12]\n"
     ]
    }
   ],
   "source": [
    "list0 = [0,1,2,3]\n",
    "array0 = np.array(list0)\n",
    "\n",
    "list_element = list0[2]\n",
    "array_element = array0[2]\n",
    "list_slice = list0[2:3]\n",
    "array_slice = array0[2:3]\n",
    "\n",
    "list0[2] += 10\n",
    "array0[2] += 10\n",
    "\n",
    "print('list: {0}'.format(list0))\n",
    "print('array: {0}'.format(array0))\n",
    "print('list_element: {0}'.format(list_element))\n",
    "print('array_element: {0}'.format(array_element))\n",
    "print('list_slice: {0}'.format(list_slice))\n",
    "print('array_slice: {0}'.format(array_slice))"
   ]
  },
  {
   "cell_type": "markdown",
   "metadata": {},
   "source": [
    "## Boolean indexing"
   ]
  },
  {
   "cell_type": "markdown",
   "metadata": {},
   "source": [
    "**Example:** suppose 4 people participate three times in a series of 5 experiments. The names of the participants (in order of participation) are in `names`, their test results are in `scores`. Putting an ndarray in a logical statement produces an array with boolean values. Subsequently, this can be used to manipulate (e.g. filter) other ndarray objects."
   ]
  },
  {
   "cell_type": "code",
   "execution_count": 15,
   "metadata": {},
   "outputs": [
    {
     "name": "stdout",
     "output_type": "stream",
     "text": [
      "[[-0.37394261  0.95842531  1.91995986  0.63723933 -0.89034841]\n",
      " [-2.14304098 -0.01535365 -1.63128078  0.53406586 -0.58365284]\n",
      " [-1.56363108  0.64181971  0.81384607  0.5943425  -0.91074869]\n",
      " [ 1.18539447  0.57578773  0.79923561  0.3232153  -1.11880407]\n",
      " [ 1.11524528 -0.05305181 -0.38754277 -1.20608234  0.76470202]\n",
      " [ 0.54019374 -0.62588508  0.86108819  1.21899344  0.43297839]\n",
      " [ 0.53455918 -0.32528575  0.98036348 -0.11744094 -0.9780744 ]\n",
      " [-0.63393008  0.45723257 -1.3898691  -0.72202899 -1.92453906]\n",
      " [-0.05258662 -0.02008933  0.3653588   0.9310195   0.46555773]\n",
      " [ 0.06666344 -0.45005783  0.48966905  1.42031658 -1.28594306]\n",
      " [ 1.15231323 -0.92216861  0.19006232  1.02623619  1.00688032]\n",
      " [-0.35147073 -0.81062346  0.16361772  0.97626893  0.31604747]] \n",
      "\n",
      "[ True False False  True False False False False False False False  True]\n"
     ]
    },
    {
     "data": {
      "text/plain": [
       "array([[-0.37394261,  0.95842531,  1.91995986,  0.63723933, -0.89034841],\n",
       "       [ 1.18539447,  0.57578773,  0.79923561,  0.3232153 , -1.11880407],\n",
       "       [-0.35147073, -0.81062346,  0.16361772,  0.97626893,  0.31604747]])"
      ]
     },
     "execution_count": 15,
     "metadata": {},
     "output_type": "execute_result"
    }
   ],
   "source": [
    "names = np.array(['Bob', 'Jane', 'Will','Bob','Mary','Mary','Mary','Jane','Jane','Will','Will','Bob'])\n",
    "\n",
    "scores = np.random.randn(12,5)\n",
    "\n",
    "print(scores, '\\n')\n",
    "\n",
    "print(names == 'Bob') # An array in a logical statement produces an array with boolean values.\n",
    "\n",
    "scores[names == 'Bob'] # Selecting the test results of Bob."
   ]
  },
  {
   "cell_type": "markdown",
   "metadata": {},
   "source": [
    "**Example**: selecting the test results of Bob of only the last two experiments of each series. Note that the slicing of the columns is performed in the same way as before."
   ]
  },
  {
   "cell_type": "code",
   "execution_count": 16,
   "metadata": {},
   "outputs": [
    {
     "data": {
      "text/plain": [
       "array([[ 0.63723933, -0.89034841],\n",
       "       [ 0.3232153 , -1.11880407],\n",
       "       [ 0.97626893,  0.31604747]])"
      ]
     },
     "execution_count": 16,
     "metadata": {},
     "output_type": "execute_result"
    }
   ],
   "source": [
    "scores[names == 'Bob', 3:]"
   ]
  },
  {
   "cell_type": "markdown",
   "metadata": {},
   "source": [
    "**Exercise #**: create an array with the test results of Jane and Mary. (Hint: use `|` instead of `or` to combine NumPy arrays with an OR-statement.)"
   ]
  },
  {
   "cell_type": "code",
   "execution_count": null,
   "metadata": {},
   "outputs": [],
   "source": []
  },
  {
   "cell_type": "markdown",
   "metadata": {},
   "source": [
    "**Exercise #**: it turns out that something went wrong during Will's experiments. Replace his values by 0.0 (a float) and print the resulting `scores` ndarray. (Hint: use broadcasting)"
   ]
  },
  {
   "cell_type": "code",
   "execution_count": null,
   "metadata": {},
   "outputs": [],
   "source": []
  },
  {
   "cell_type": "markdown",
   "metadata": {},
   "source": [
    "**Exercise #**: instead of putting Will's scores to 0.0, it makes more sense to remove Will's data completely. Use boolean indexing to remove Will's name from `names` and his test results from `scores`. Make sure the variables `scores` and `names` refer to the newly created Python objects (without Will's data in it). "
   ]
  },
  {
   "cell_type": "code",
   "execution_count": null,
   "metadata": {},
   "outputs": [],
   "source": []
  },
  {
   "cell_type": "markdown",
   "metadata": {},
   "source": [
    "**Example:** NumPy's `where` function is the ndarray-version of the expression 'x if condition else y' (see pp.109-111 of McKinney). For NumPy arrays, this becomes `np.where(condition, xarr, yarr)`. It is often very useful. For example, replacing all negative test results by their positive counterparts:"
   ]
  },
  {
   "cell_type": "code",
   "execution_count": 17,
   "metadata": {},
   "outputs": [
    {
     "data": {
      "text/plain": [
       "array([[0.37394261, 0.95842531, 1.91995986, 0.63723933, 0.89034841],\n",
       "       [2.14304098, 0.01535365, 1.63128078, 0.53406586, 0.58365284],\n",
       "       [1.56363108, 0.64181971, 0.81384607, 0.5943425 , 0.91074869],\n",
       "       [1.18539447, 0.57578773, 0.79923561, 0.3232153 , 1.11880407],\n",
       "       [1.11524528, 0.05305181, 0.38754277, 1.20608234, 0.76470202],\n",
       "       [0.54019374, 0.62588508, 0.86108819, 1.21899344, 0.43297839],\n",
       "       [0.53455918, 0.32528575, 0.98036348, 0.11744094, 0.9780744 ],\n",
       "       [0.63393008, 0.45723257, 1.3898691 , 0.72202899, 1.92453906],\n",
       "       [0.05258662, 0.02008933, 0.3653588 , 0.9310195 , 0.46555773],\n",
       "       [0.06666344, 0.45005783, 0.48966905, 1.42031658, 1.28594306],\n",
       "       [1.15231323, 0.92216861, 0.19006232, 1.02623619, 1.00688032],\n",
       "       [0.35147073, 0.81062346, 0.16361772, 0.97626893, 0.31604747]])"
      ]
     },
     "execution_count": 17,
     "metadata": {},
     "output_type": "execute_result"
    }
   ],
   "source": [
    "np.where(scores >= 0, scores, -scores)"
   ]
  },
  {
   "cell_type": "markdown",
   "metadata": {},
   "source": [
    "**Exercise #**: in the cell below two 2-dimensional arrays are defined. Create a new ndarray of the same dimensions. For each element in the new object, choose between the corresponding elements of `arr1` and `arr2` and select the one with the largest absolute value."
   ]
  },
  {
   "cell_type": "code",
   "execution_count": 18,
   "metadata": {},
   "outputs": [],
   "source": [
    "arr1 = np.random.randn(3,5)\n",
    "arr2 = np.random.randn(3,5)\n",
    "\n"
   ]
  },
  {
   "cell_type": "markdown",
   "metadata": {},
   "source": [
    "**Exercise #**: in the cell below a third 2-dimensional array is defined. As in the previous exercise, create a new ndarray by choosing between elements of `arr1` and `arr2`. But now `arr3` decides, element-by-element, whether you should pick the element with the largest or smallest absolute value. If the element in `arr3` is positive, select the element with the largest absolute value. If the element in `arr3` is negative, pick the element with the smallest absolute value."
   ]
  },
  {
   "cell_type": "code",
   "execution_count": 19,
   "metadata": {},
   "outputs": [],
   "source": [
    "arr3 = np.random.randn(3,5)\n"
   ]
  },
  {
   "cell_type": "markdown",
   "metadata": {},
   "source": [
    "## Universal functions\n",
    "\n",
    "A NumPy universal function (or \"ufunc\") performs element-by-element operations on data in ndarray's."
   ]
  },
  {
   "cell_type": "markdown",
   "metadata": {},
   "source": [
    "**Example:** calculating the exponential of the elements of `arr`. Note that one of the elements is NumPy's NaN (Not a Number). This is a float, representing the absence of a value. A NumPy ufunc does not give an error if it encounters NaN. Instead, it simply propagates the value as missing"
   ]
  },
  {
   "cell_type": "code",
   "execution_count": 20,
   "metadata": {},
   "outputs": [
    {
     "name": "stdout",
     "output_type": "stream",
     "text": [
      "arr: [ 1.  -0.5  nan  5.9 -2.   0.4 -3.1  4.7]\n",
      "exponentials: [2.71828183e+00 6.06530660e-01            nan 3.65037468e+02\n",
      " 1.35335283e-01 1.49182470e+00 4.50492024e-02 1.09947172e+02]\n"
     ]
    }
   ],
   "source": [
    "arr = np.array([1.0, -.5, 2.0, 5.9,-2.0, 0.4, -3.1,4.7])\n",
    "arr[np.random.randint(1,8)] = np.nan\n",
    "\n",
    "print('arr: {}'.format(arr))\n",
    "\n",
    "print('exponentials: {0}'.format(np.exp(arr)))"
   ]
  },
  {
   "cell_type": "markdown",
   "metadata": {},
   "source": [
    "**Exercise 4:** replace the NaN entry in `arr` by 0.0 and print the resulting array. (Hint: use the universal function `isnan`)"
   ]
  },
  {
   "cell_type": "code",
   "execution_count": null,
   "metadata": {},
   "outputs": [],
   "source": []
  },
  {
   "cell_type": "markdown",
   "metadata": {},
   "source": [
    "**Example:** creating a boolean ndarray that shows for which experiments Jane scored higher than Mary. `greater` is an example of a binary universal function, because it performs an operation on two input arrays element-by-element."
   ]
  },
  {
   "cell_type": "code",
   "execution_count": 21,
   "metadata": {},
   "outputs": [
    {
     "data": {
      "text/plain": [
       "array([[False,  True, False,  True, False],\n",
       "       [False,  True, False, False, False],\n",
       "       [False,  True, False,  True,  True]])"
      ]
     },
     "execution_count": 21,
     "metadata": {},
     "output_type": "execute_result"
    }
   ],
   "source": [
    "np.greater(scores[names == 'Jane'], scores[names == 'Mary'])"
   ]
  },
  {
   "cell_type": "markdown",
   "metadata": {},
   "source": [
    "## Reductions\n",
    "\n",
    "Aggregations (often called reductions) are mathematical functions that compute statistics about an entire array, or about data along an axis of an array."
   ]
  },
  {
   "cell_type": "markdown",
   "metadata": {},
   "source": [
    "**Example:** two equivalent syntactical expressions to call a reduction. Let's go back to the three participants in `names` (Bob, Jane and Mary) and their test results in `scores`. Here, we compute the mean score for all experiments."
   ]
  },
  {
   "cell_type": "code",
   "execution_count": 22,
   "metadata": {},
   "outputs": [
    {
     "name": "stdout",
     "output_type": "stream",
     "text": [
      "0.049520437518704566\n",
      "0.049520437518704566\n"
     ]
    }
   ],
   "source": [
    "print(np.mean(scores))\n",
    "\n",
    "print(scores.mean())"
   ]
  },
  {
   "cell_type": "markdown",
   "metadata": {},
   "source": [
    "**Example:** with the keyword `axis` we specify the axis over which the aggregation should take place. Here, we compute the total of all scores per experiment."
   ]
  },
  {
   "cell_type": "code",
   "execution_count": 23,
   "metadata": {},
   "outputs": [
    {
     "data": {
      "text/plain": [
       "array([-0.52423275, -0.58925019,  3.17450843,  5.61614537, -4.7059446 ])"
      ]
     },
     "execution_count": 23,
     "metadata": {},
     "output_type": "execute_result"
    }
   ],
   "source": [
    "np.sum(scores, axis=0)"
   ]
  },
  {
   "cell_type": "markdown",
   "metadata": {},
   "source": [
    "**Example:** the total of all scores per series of 5 experiments."
   ]
  },
  {
   "cell_type": "code",
   "execution_count": 24,
   "metadata": {},
   "outputs": [
    {
     "data": {
      "text/plain": [
       "array([ 2.25133349, -3.83926239, -0.42437149,  1.76482905,  0.23327037,\n",
       "        2.42736867,  0.09412157, -4.21313465,  1.68926007,  0.24064817,\n",
       "        2.45332345,  0.29383993])"
      ]
     },
     "execution_count": 24,
     "metadata": {},
     "output_type": "execute_result"
    }
   ],
   "source": [
    "np.sum(scores, axis=1)"
   ]
  },
  {
   "cell_type": "markdown",
   "metadata": {},
   "source": [
    "**Exercise 5:** for each series of 5 experiments, one can calculate the standard deviation of the test results using the NumPy function `std`. Use this to create a dictionary, with as keys the names of the participants (Bob, Jane and Mary in `names`) and as values the average of the 3 standard deviations of the 3 series of experiments of each participant. (Hint: using a dict comprehension, you only need one line of code.)"
   ]
  },
  {
   "cell_type": "code",
   "execution_count": null,
   "metadata": {},
   "outputs": [],
   "source": []
  },
  {
   "cell_type": "markdown",
   "metadata": {},
   "source": [
    "**Exercise 6:** reductions interprete boolean values in arrays as 1 (`True`) and 0 (`False`). Use this to count for how many of the 5 experiments Jane had the highest maximum score."
   ]
  },
  {
   "cell_type": "code",
   "execution_count": null,
   "metadata": {},
   "outputs": [],
   "source": []
  },
  {
   "cell_type": "markdown",
   "metadata": {},
   "source": [
    "## Linear algebra\n",
    "\n",
    "NumPy contains standard operations for linear algebra. Most of them are located in the submodule `linalg`. Note that one cannot use `*` for multiplication between matrices and/or vectors, since NumPy has reserved this symbol for element-by-element multiplication. Instead, one can use the NumPy-function `dot`."
   ]
  },
  {
   "cell_type": "markdown",
   "metadata": {},
   "source": [
    "**Example**: using the NumPy-function `dot` to perform matrix-vector multiplications between a matrix $A$ and a vector $b$."
   ]
  },
  {
   "cell_type": "code",
   "execution_count": 25,
   "metadata": {},
   "outputs": [
    {
     "name": "stdout",
     "output_type": "stream",
     "text": [
      "matrix A:\n",
      " [[7 2 3]\n",
      " [6 5 7]\n",
      " [7 1 8]]\n",
      "\n",
      "vector b:\n",
      " [1 2 3]\n",
      "\n",
      "[20 37 33]\n",
      "[40 15 41]\n"
     ]
    }
   ],
   "source": [
    "A = np.random.randint(1,10, size=9).reshape(3,3)\n",
    "b = np.arange(1,4)\n",
    "\n",
    "print('matrix A:\\n {0}'.format(A) + '\\n')\n",
    "print('vector b:\\n {0}'.format(b) + '\\n')\n",
    "\n",
    "print(A.dot(b)) # Computing A*b. Equivalently, one can write \"np.dot(A,b)\".\n",
    "\n",
    "print(np.dot(b, A)) # Computing b^T*A. Equivalently, one can write \"b.dot(A)\"."
   ]
  },
  {
   "cell_type": "markdown",
   "metadata": {},
   "source": [
    "**Example**: instead of using `dot`, one can use the abbreviated ``@``-notation:"
   ]
  },
  {
   "cell_type": "code",
   "execution_count": 26,
   "metadata": {},
   "outputs": [
    {
     "name": "stdout",
     "output_type": "stream",
     "text": [
      "[20 37 33]\n",
      "[40 15 41]\n"
     ]
    }
   ],
   "source": [
    "print(A @ b)\n",
    "print(b @ A)"
   ]
  },
  {
   "cell_type": "markdown",
   "metadata": {},
   "source": [
    "**Example:** one can use the NumPy function `outer` to compute the outer product of a column vector with a row vector, resulting in a 2-dimensional ndarray."
   ]
  },
  {
   "cell_type": "code",
   "execution_count": 27,
   "metadata": {},
   "outputs": [
    {
     "name": "stdout",
     "output_type": "stream",
     "text": [
      "[[ 5  6]\n",
      " [10 12]\n",
      " [15 18]]\n",
      "\n",
      "[[ 5 10 15]\n",
      " [ 6 12 18]]\n"
     ]
    }
   ],
   "source": [
    "c = np.arange(5,7)\n",
    "\n",
    "print(np.outer(b, c))\n",
    "print('')\n",
    "print(np.outer(c, b)) # Changing the order is equivalent to transposing the resulting matrix."
   ]
  },
  {
   "cell_type": "markdown",
   "metadata": {},
   "source": [
    "**Exercise 7:** the `numpy.linalg` module has a standard set of matrix decompositions and functions calculating things like inverse, trace and determinant. Solve the set of linear equations $A x = b$ for the vector $x$ in two ways:\n",
    "* use the `linalg`-function `inv()` to calculate the inverse and perform matrix multiplication.\n",
    "* use the `linalg`-function `solve().`\n",
    "\n",
    "Verify the solutions are the same (a neat way of verifying this would be to use NumPy's binary boolean reduction `allclose()`)."
   ]
  },
  {
   "cell_type": "code",
   "execution_count": null,
   "metadata": {},
   "outputs": [],
   "source": []
  },
  {
   "cell_type": "markdown",
   "metadata": {},
   "source": [
    "**Exercise 8:** write a function called `adjoint` that computes the adjoint of a square matrix and returns it as an ndarray. The (i,j)-th element of the adjoint of a matrix $B$ can be computed with $$(\\text{adj}(B))_{ij} = (-1)^{i+j} M_{ji},$$ where $M_{ji}$ is the determinant of the matrix that you get when you remove row $j$ and column $i$ from $B$ (called the $(j,i)$-minor of $B$).\n",
    "\n",
    "Finally, apply your function to the matrix $A$ that was defined earlier and print the result.\n",
    "\n",
    "(Hint: this is a hard exercise with many valid solutions. One valid solution uses a nested list comprehension to create the adjoint matrix as a list object, that subsequently can be turned into an ndarray. To keep your code readable, you may want to use a nested function (see below for an explanation) to compute the minors.)"
   ]
  },
  {
   "cell_type": "code",
   "execution_count": null,
   "metadata": {},
   "outputs": [],
   "source": []
  },
  {
   "cell_type": "markdown",
   "metadata": {},
   "source": [
    "**Exercise 9:** run the cell below to test your `adjoint` function for the matrix $A$, making use of the general identity \n",
    "$$A^{-1} = \\frac{1}{\\text{det}(A)}\\text{adj}(A).$$ The cell output should be `True`."
   ]
  },
  {
   "cell_type": "code",
   "execution_count": 28,
   "metadata": {},
   "outputs": [],
   "source": [
    "try:\n",
    "    print(np.allclose(np.linalg.inv(A), adjoint(A)/np.linalg.det(A)))\n",
    "except:\n",
    "    pass"
   ]
  }
 ],
 "metadata": {
  "kernelspec": {
   "display_name": "Python 3 (ipykernel)",
   "language": "python",
   "name": "python3"
  },
  "language_info": {
   "codemirror_mode": {
    "name": "ipython",
    "version": 3
   },
   "file_extension": ".py",
   "mimetype": "text/x-python",
   "name": "python",
   "nbconvert_exporter": "python",
   "pygments_lexer": "ipython3",
   "version": "3.11.9"
  },
  "livereveal": {
   "start_slideshow_at": "selected"
  }
 },
 "nbformat": 4,
 "nbformat_minor": 2
}
