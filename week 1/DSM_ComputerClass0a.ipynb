{
 "cells": [
  {
   "cell_type": "markdown",
   "metadata": {},
   "source": [
    "# Computer Class 0a - Python Standard Library\n",
    "\n",
    "The examples and exercises of this computer class introduce the student to working with the Python Standard Library. It can be used in conjunction with chapters 1-3 of the McKinney book.\n",
    "\n",
    "*Authors: Cees Diks and Bram Wouters, Faculty Economics and Business, University of Amsterdam (UvA)* <br>\n",
    "*Copyright (C): UvA (2023)* <br>\n",
    "*Credits: some of the examples and formulations are taken from McKinney and/or the material of the Computational Finance course by Simon Broda (UvA)*"
   ]
  },
  {
   "cell_type": "markdown",
   "metadata": {},
   "source": [
    "# 1. Basics"
   ]
  },
  {
   "cell_type": "markdown",
   "metadata": {
    "slideshow": {
     "slide_type": "slide"
    }
   },
   "source": [
    "## Arithmetic\n",
    "The basic arithmetic operations are `+`, `-`, `*`, `/`, and `**` for exponentiation:"
   ]
  },
  {
   "cell_type": "markdown",
   "metadata": {},
   "source": [
    "**Exercise 1:** calculate $\\frac{2 \\cdot (3-1)^4}{\\sqrt{25}}$."
   ]
  },
  {
   "cell_type": "code",
   "execution_count": 1,
   "metadata": {},
   "outputs": [
    {
     "name": "stdout",
     "output_type": "stream",
     "text": [
      "6.4\n"
     ]
    }
   ],
   "source": [
    "import math\n",
    "print(2 * (3 - 1) ** 4 / math.sqrt(25))"
   ]
  },
  {
   "cell_type": "markdown",
   "metadata": {},
   "source": [
    "## Printing"
   ]
  },
  {
   "cell_type": "markdown",
   "metadata": {},
   "source": [
    "**Examples:** when executing a cell, in many cases the last line is printed as output. One can use the ``print`` statement to display additional output. In the cell below one finds examples of print statements."
   ]
  },
  {
   "cell_type": "code",
   "execution_count": 2,
   "metadata": {},
   "outputs": [],
   "source": [
    "print('This is a line.') # Printing a string\n",
    "\n",
    "a = 137\n",
    "b = [1,2,6,3,7,4,5,3]\n",
    "\n",
    "print(a) # Printing an integer\n",
    "print(b) # Printing a list\n",
    "print('') # Creating an empty line\n",
    "print(a, b) # Printing and integer and a list\n",
    "\n",
    "print('This is a line with an integer,',a ,'and a list,', b)\n",
    "\n",
    "print('This is a line with an integer, %i and a list, %s' % (a, b))  # Same line, using a tuple\n",
    "\n",
    "print('This is a line with an integer, %.3f and a list, %s \\n' % (a, b)) # Same line, turning the integer into a float\n",
    "                                                                         # with three decimals.\n",
    "                                                                         # Note the \\n to create and extra empty line\n",
    "\n",
    "print('This is a line with an integer, {0} and a list, {1}'.format(a, b))  # Same line, using a different syntax\n",
    "\n",
    "print('This is a line with an integer,',a ,'and a list,', b, sep='') # Same line, without additional spaces"
   ]
  },
  {
   "cell_type": "markdown",
   "metadata": {},
   "source": [
    "**Exercise 2:** print a line similar to the examples above, but now with three insertions: an integer, a float and a list."
   ]
  },
  {
   "cell_type": "code",
   "execution_count": 3,
   "metadata": {},
   "outputs": [],
   "source": []
  },
  {
   "cell_type": "markdown",
   "metadata": {},
   "source": [
    "## Types\n",
    "\n",
    "Everything in Python is an object. Each object is of a certain type. Here's a list of Python types you will often use:\n",
    "* integer number (int)\n",
    "* decimal number (float)\n",
    "* boolean (bool)\n",
    "* string of characters (str)\n",
    "* list of objects (list)\n",
    "* tuple of objects (tuple)\n",
    "* dictionary (dict)\n",
    "* set of objects (set)\n",
    "* function (function)"
   ]
  },
  {
   "cell_type": "markdown",
   "metadata": {},
   "source": [
    "**Examples:** the function ``type`` gives the type of the object in its argument."
   ]
  },
  {
   "cell_type": "code",
   "execution_count": 4,
   "metadata": {},
   "outputs": [],
   "source": [
    "type(a) # Functions take one or more inputs/arguments (in parentheses) and return an output."
   ]
  },
  {
   "cell_type": "code",
   "execution_count": 5,
   "metadata": {},
   "outputs": [],
   "source": [
    "type(b)"
   ]
  },
  {
   "cell_type": "code",
   "execution_count": 6,
   "metadata": {},
   "outputs": [],
   "source": [
    "c = 'ThIs is A stRinG! #$$3@6**#9&@'\n",
    "\n",
    "type(c)"
   ]
  },
  {
   "cell_type": "markdown",
   "metadata": {},
   "source": [
    "## Attributes and methods\n",
    "\n",
    "Objects in Python typically have attributes and methods. Attributes are other Python objects stored inside the object. Methods are functions associated with the object, which have access to the internal data of the object. Which attributes and methods an object has depends on its type. So str objects have different attributes/methods than list objects, for example. In this tutorial, we will be mainly concerned with methods of objects."
   ]
  },
  {
   "cell_type": "markdown",
   "metadata": {},
   "source": [
    "**Exercise 3:** to get an overview of the attributes/methods associated with a certain object, one can use the Tab key. For example, to see which methods are associated to an integer you can type `a.<Tab>` or `int.<Tab>`. Try both. Try `b.<Tab>` and `c.<Tab>` as well and note the differences."
   ]
  },
  {
   "cell_type": "code",
   "execution_count": null,
   "metadata": {},
   "outputs": [],
   "source": []
  },
  {
   "cell_type": "markdown",
   "metadata": {},
   "source": [
    "**Example:** there are two equivalent syntactic expressions to access a method. We illustrate this with the string method `upper`, which transforms all lowercase characters into uppercase characters."
   ]
  },
  {
   "cell_type": "code",
   "execution_count": 7,
   "metadata": {},
   "outputs": [],
   "source": [
    "print(str.upper(c))\n",
    "\n",
    "print(c.upper())"
   ]
  },
  {
   "cell_type": "markdown",
   "metadata": {},
   "source": [
    "**Example:** two equivalent syntactic expressions to count the occurrences of the integer 3 in the list `b`."
   ]
  },
  {
   "cell_type": "code",
   "execution_count": 8,
   "metadata": {},
   "outputs": [],
   "source": [
    "print(list.count(b,3))\n",
    "\n",
    "print(b.count(3))"
   ]
  },
  {
   "cell_type": "markdown",
   "metadata": {},
   "source": [
    "**Example:** applying a method to an object of the wrong type will give you an error."
   ]
  },
  {
   "cell_type": "code",
   "execution_count": 10,
   "metadata": {},
   "outputs": [],
   "source": [
    "c.count(3)"
   ]
  },
  {
   "cell_type": "markdown",
   "metadata": {},
   "source": [
    "**Exercise 4:** apply a single method to `c` that transforms all lowercase letters to uppercase letters, and vice versa. (Hint: use the Tab key to find the appropriate method.)"
   ]
  },
  {
   "cell_type": "code",
   "execution_count": 11,
   "metadata": {},
   "outputs": [],
   "source": []
  },
  {
   "cell_type": "markdown",
   "metadata": {},
   "source": [
    "**Exercise 5:** count how often the character 's' occurs in `c`."
   ]
  },
  {
   "cell_type": "code",
   "execution_count": 12,
   "metadata": {},
   "outputs": [],
   "source": []
  },
  {
   "cell_type": "markdown",
   "metadata": {},
   "source": [
    "**Example:** it is possible to apply multiple methods subsequently. For this, one can also use the two equivalent syntactic expressions. Note the order of methods in the second expression."
   ]
  },
  {
   "cell_type": "code",
   "execution_count": 13,
   "metadata": {},
   "outputs": [],
   "source": [
    "str.count(str.upper(c),'s')"
   ]
  },
  {
   "cell_type": "code",
   "execution_count": 14,
   "metadata": {},
   "outputs": [],
   "source": [
    "c.upper().count('s')"
   ]
  },
  {
   "cell_type": "markdown",
   "metadata": {},
   "source": [
    "**Example:** accessing an attribute does not require parentheses, because attributes are other objects already stored inside the object."
   ]
  },
  {
   "cell_type": "code",
   "execution_count": 15,
   "metadata": {},
   "outputs": [],
   "source": [
    "a.real # Getting the real part of the numeric quantity a."
   ]
  },
  {
   "cell_type": "markdown",
   "metadata": {},
   "source": [
    "## Built-in functions\n",
    "\n",
    "The Python Standard Library has a number of built-in functions that can be called at any time (as opposed to attributes and methods, which can only be called in association with an object of the correct type). Click [here](https://docs.python.org/3.6/library/functions.html) for a list and description of all built-in functions."
   ]
  },
  {
   "cell_type": "markdown",
   "metadata": {},
   "source": [
    "**Example**: using `len` to calculate the length of iterable objects."
   ]
  },
  {
   "cell_type": "code",
   "execution_count": 16,
   "metadata": {
    "scrolled": true
   },
   "outputs": [],
   "source": [
    "print(len(b))\n",
    "print(len(c))"
   ]
  },
  {
   "cell_type": "markdown",
   "metadata": {},
   "source": [
    "**Exercise 6:** use a built-in function to determine the sum of the numbers in `b`."
   ]
  },
  {
   "cell_type": "code",
   "execution_count": 17,
   "metadata": {},
   "outputs": [],
   "source": []
  },
  {
   "cell_type": "markdown",
   "metadata": {},
   "source": [
    "**Exercise 7:** use built-in functions to determine the difference between the maximum and minimum value of `b`."
   ]
  },
  {
   "cell_type": "code",
   "execution_count": 18,
   "metadata": {},
   "outputs": [],
   "source": []
  },
  {
   "cell_type": "markdown",
   "metadata": {},
   "source": [
    "**Exercise 8:** use a built-in function to turn the string object `c` into a list of characters and print the result."
   ]
  },
  {
   "cell_type": "code",
   "execution_count": 19,
   "metadata": {},
   "outputs": [],
   "source": []
  },
  {
   "cell_type": "markdown",
   "metadata": {},
   "source": [
    "# 2. Built-in types\n",
    "\n",
    "This section introduces the most important built-in types of the Python Standard Library."
   ]
  },
  {
   "cell_type": "markdown",
   "metadata": {},
   "source": [
    "## Numeric types"
   ]
  },
  {
   "cell_type": "markdown",
   "metadata": {},
   "source": [
    "**Example:** Computers distinguish between integers and floating point numbers. Python integers can be arbitrary large (will use as many bits as necessary). Python floats are between $\\pm 1.8\\cdot 10^{308}$, but are stored with just 64 bits of precision. Hence, not all real numbers can be represented, and floating point arithmetic is not exact."
   ]
  },
  {
   "cell_type": "code",
   "execution_count": 20,
   "metadata": {},
   "outputs": [],
   "source": [
    "a = 1\n",
    "type(a)"
   ]
  },
  {
   "cell_type": "code",
   "execution_count": 21,
   "metadata": {
    "slideshow": {
     "slide_type": "-"
    }
   },
   "outputs": [],
   "source": [
    "a = 1.0\n",
    "type(a)  # Note that variables can change type: a was an integer before"
   ]
  },
  {
   "cell_type": "code",
   "execution_count": 22,
   "metadata": {},
   "outputs": [],
   "source": [
    "a-0.9 # Example of the non-exactness of floating point arithmetic in Python. "
   ]
  },
  {
   "cell_type": "markdown",
   "metadata": {},
   "source": [
    "**Example:** If any of the operands is a float, then Python will convert the others to float, too."
   ]
  },
  {
   "cell_type": "code",
   "execution_count": 23,
   "metadata": {},
   "outputs": [],
   "source": [
    "print(4/2.0)\n",
    "\n",
    "2*(3-1.0)**2"
   ]
  },
  {
   "cell_type": "markdown",
   "metadata": {},
   "source": [
    "**Example:** in Python 3.x (as opposed to Python 2.x) division `/` of two integers returns a float. One uses ``//`` for integer division and `%` to obtain the remainder."
   ]
  },
  {
   "cell_type": "code",
   "execution_count": 24,
   "metadata": {},
   "outputs": [],
   "source": [
    "print(6/3) # Ordinary division turns integers into a float.\n",
    "print(5//3) # Integer division, discarding the remainder.\n",
    "print(5 % 3) # Obtaining the remainder of integer division."
   ]
  },
  {
   "cell_type": "markdown",
   "metadata": {},
   "source": [
    "## Booleans\n",
    "\n",
    "The two boolean type objects in Python are written as `True` and `False`."
   ]
  },
  {
   "cell_type": "markdown",
   "metadata": {},
   "source": [
    "**Example**: comparisons and other conditional expressions evaluate to either `True` or `False`."
   ]
  },
  {
   "cell_type": "code",
   "execution_count": 25,
   "metadata": {},
   "outputs": [],
   "source": [
    "3 > 4.0"
   ]
  },
  {
   "cell_type": "code",
   "execution_count": 26,
   "metadata": {},
   "outputs": [],
   "source": [
    "a <= 1"
   ]
  },
  {
   "cell_type": "code",
   "execution_count": 27,
   "metadata": {},
   "outputs": [],
   "source": [
    "not(1 < 2)"
   ]
  },
  {
   "cell_type": "markdown",
   "metadata": {},
   "source": [
    "**Example:** Boolean values can be combined with `and` and `or`."
   ]
  },
  {
   "cell_type": "code",
   "execution_count": 28,
   "metadata": {},
   "outputs": [],
   "source": [
    "True and False"
   ]
  },
  {
   "cell_type": "code",
   "execution_count": 29,
   "metadata": {},
   "outputs": [],
   "source": [
    "True or False"
   ]
  },
  {
   "cell_type": "code",
   "execution_count": 30,
   "metadata": {},
   "outputs": [],
   "source": [
    "1 < 2 and 2 < 1 "
   ]
  },
  {
   "cell_type": "markdown",
   "metadata": {},
   "source": [
    "## Strings"
   ]
  },
  {
   "cell_type": "markdown",
   "metadata": {},
   "source": [
    "**Example:** we have seen already examples of strings."
   ]
  },
  {
   "cell_type": "code",
   "execution_count": 31,
   "metadata": {},
   "outputs": [],
   "source": [
    "b = 'This is the first half'\n",
    "c = 'and this is the second half.'"
   ]
  },
  {
   "cell_type": "markdown",
   "metadata": {},
   "source": [
    "**Exercise 9:** use the `+` to combine the string `b` and `c` into a single string."
   ]
  },
  {
   "cell_type": "code",
   "execution_count": 32,
   "metadata": {},
   "outputs": [],
   "source": []
  },
  {
   "cell_type": "markdown",
   "metadata": {},
   "source": [
    "**Exercise 10:** the resulting string is missing a space in between the words 'half' and 'and'. Correct this by inserting a third string into the sum."
   ]
  },
  {
   "cell_type": "code",
   "execution_count": 33,
   "metadata": {},
   "outputs": [],
   "source": []
  },
  {
   "cell_type": "markdown",
   "metadata": {},
   "source": [
    "**Exercise 11:** use the built-in function `str` to turn the integer number 8471 into a string. Call the resulting object `d`."
   ]
  },
  {
   "cell_type": "code",
   "execution_count": 34,
   "metadata": {},
   "outputs": [],
   "source": []
  },
  {
   "cell_type": "markdown",
   "metadata": {},
   "source": [
    "**Exercise 12:** use the built-in function `isinstance` to check whether the variable `d` refers to an object of string type."
   ]
  },
  {
   "cell_type": "code",
   "execution_count": 35,
   "metadata": {},
   "outputs": [],
   "source": []
  },
  {
   "cell_type": "markdown",
   "metadata": {},
   "source": [
    "## Lists\n",
    "\n",
    "A list is an ordered sequence of Python objects. You can define them using square brackets `[]` or the built-in function `list`."
   ]
  },
  {
   "cell_type": "markdown",
   "metadata": {},
   "source": [
    "**Example:** defining lists using `[]`. Note that a list can contain Python objects of different type, including sequence-type objects like lists themselves. Also note the `None`, which is the only Python object of NoneType, and which is often used to mark the absence of a value. In a list, you can consider it as an empty entry."
   ]
  },
  {
   "cell_type": "code",
   "execution_count": 36,
   "metadata": {},
   "outputs": [],
   "source": [
    "list1 = [7,4,3,9,0,1,6,2,3,6,8,0,5]\n",
    "list2 = ['April','May','July','August']\n",
    "list3 = [4, 6.5, 'butterfly', [4,5], None]"
   ]
  },
  {
   "cell_type": "markdown",
   "metadata": {},
   "source": [
    "**Exercise 10:** use the list method `append` to attach the integer 17 to the end of `list1`. Print the result."
   ]
  },
  {
   "cell_type": "code",
   "execution_count": 37,
   "metadata": {},
   "outputs": [],
   "source": []
  },
  {
   "cell_type": "markdown",
   "metadata": {},
   "source": [
    "**Exercise 11:** use the list method `insert` to include the string 'June' in the correct position of `list2`. Note that the index of sequence-like objects in Python starts at 0. Print the result."
   ]
  },
  {
   "cell_type": "code",
   "execution_count": 38,
   "metadata": {},
   "outputs": [],
   "source": []
  },
  {
   "cell_type": "markdown",
   "metadata": {},
   "source": [
    "**Example:** checking whether `list3` contains the object `6.5`."
   ]
  },
  {
   "cell_type": "code",
   "execution_count": 39,
   "metadata": {},
   "outputs": [],
   "source": [
    "6.5 in list3"
   ]
  },
  {
   "cell_type": "markdown",
   "metadata": {},
   "source": [
    "**Exercise 12:** check whether the integer `9` is not an element of `list1`. The answer should be `False`."
   ]
  },
  {
   "cell_type": "code",
   "execution_count": 40,
   "metadata": {},
   "outputs": [],
   "source": []
  },
  {
   "cell_type": "markdown",
   "metadata": {},
   "source": [
    "**Exercise 13:** use `+` to concatenate `list1`, `list3` and `list2` (in that order), and print the result."
   ]
  },
  {
   "cell_type": "code",
   "execution_count": 41,
   "metadata": {},
   "outputs": [],
   "source": []
  },
  {
   "cell_type": "markdown",
   "metadata": {},
   "source": [
    "**Exercise 14:** use the list method `extend` to add the 4 last months of the year to `list2`. A single line of code should be enough. Print the result."
   ]
  },
  {
   "cell_type": "code",
   "execution_count": 42,
   "metadata": {},
   "outputs": [],
   "source": []
  },
  {
   "cell_type": "markdown",
   "metadata": {},
   "source": [
    "**Example:** with indices within brackets `[]` one can access specific elements of sequence-like/iterable objects. One can also use this to re-define objects within a list."
   ]
  },
  {
   "cell_type": "code",
   "execution_count": 43,
   "metadata": {},
   "outputs": [],
   "source": [
    "print(list3[0])\n",
    "print(list3[1])\n",
    "print(list3[2])\n",
    "print(list3[-1]) # Negative indices start at the end of a list and count backwards.\n",
    "\n",
    "list3[0] = [1,2,3] # Replacing the first element of c_list by a list if length 3.\n",
    "print(list3)"
   ]
  },
  {
   "cell_type": "markdown",
   "metadata": {},
   "source": [
    "**Example:** using the `:` symbol to select slices of lists. "
   ]
  },
  {
   "cell_type": "code",
   "execution_count": 44,
   "metadata": {},
   "outputs": [],
   "source": [
    "print(list1[2:7])\n",
    "print(list2[0:1])\n",
    "print(list1[:7])\n",
    "print(list1[2:])\n",
    "print(list3[-2:])\n",
    "print(list1[2:7:2]) # An (optional) third integer gives the step size of the slicing.\n",
    "print(list1[2::2])\n",
    "\n",
    "list3[1:3] = [1.23, 'spider','flower'] # Replacing the second and third element of list3 by three new elements.\n",
    "print(list3)"
   ]
  },
  {
   "cell_type": "markdown",
   "metadata": {},
   "source": [
    "**Exercise 15:** the slicing also works for strings, where a string is seen as a sequence of unicode characters. Below we have defined the string `alphabet`. Use the slicing syntax to create a string with the first, third, fifth, seventh, etc., letter of the alphabet."
   ]
  },
  {
   "cell_type": "code",
   "execution_count": 45,
   "metadata": {},
   "outputs": [],
   "source": [
    "alphabet = 'abcdefghijklmnopqrstuvwxyz'\n"
   ]
  },
  {
   "cell_type": "markdown",
   "metadata": {},
   "source": [
    "**Exercise 16:** complete `list2` with the three missing months of the year and make sure they are in the correct position. Print the result."
   ]
  },
  {
   "cell_type": "code",
   "execution_count": 46,
   "metadata": {},
   "outputs": [],
   "source": []
  },
  {
   "cell_type": "markdown",
   "metadata": {},
   "source": [
    "**Exercise 17:** use the list method `sort` to sort `list1` and print the result."
   ]
  },
  {
   "cell_type": "code",
   "execution_count": 47,
   "metadata": {},
   "outputs": [],
   "source": []
  },
  {
   "cell_type": "markdown",
   "metadata": {},
   "source": [
    "## Tuples\n",
    "\n",
    "Like a list, a tuple is an ordered sequence of Python objects. Crucially, unlike a list, a tuple is an immutable object. This means that once the tuple is defined, its length and its objects cannot be changed anymore."
   ]
  },
  {
   "cell_type": "markdown",
   "metadata": {},
   "source": [
    "**Example:** One can define a tuple using commas only. Parentheses `()` are optional."
   ]
  },
  {
   "cell_type": "code",
   "execution_count": 48,
   "metadata": {},
   "outputs": [],
   "source": [
    "tuple1 = 1, 2, ['tree','house',9.9] , 4, 'king'\n",
    "tuple2 = ('queen', 'door', 'leaf')"
   ]
  },
  {
   "cell_type": "markdown",
   "metadata": {},
   "source": [
    "**Exercise 18:** use the built-in function `tuple` to create a tuple out of the string `alphabet` that was defined earlier. Print the result."
   ]
  },
  {
   "cell_type": "code",
   "execution_count": 49,
   "metadata": {},
   "outputs": [],
   "source": []
  },
  {
   "cell_type": "markdown",
   "metadata": {},
   "source": [
    "**Exercise 19:** try to append the integer 6 to `tuple1`, like you did earlier for a list. You will encounter an error, because a tuple is immutable."
   ]
  },
  {
   "cell_type": "code",
   "execution_count": 50,
   "metadata": {},
   "outputs": [],
   "source": []
  },
  {
   "cell_type": "markdown",
   "metadata": {},
   "source": [
    "## Dictionaries\n",
    "\n",
    "A dictionary (`dict`) is a mapping from (immutable) Python objects, called *keys*, to other Python objects, called *values*. "
   ]
  },
  {
   "cell_type": "markdown",
   "metadata": {},
   "source": [
    "**Example:** creating a dictionary and printing the keys and values. Note that the dictionary methods `keys` and `values` create an iterable object, which can be turned into a list with the built-in function `list`."
   ]
  },
  {
   "cell_type": "code",
   "execution_count": 51,
   "metadata": {},
   "outputs": [],
   "source": [
    "d1 = {'a' : 'blue', 'b' : [1,2,3,4], 3 : ('al','pha','bet')}\n",
    "\n",
    "print('The keys of the dictionary are: {0}'.format(list(d1.keys())))\n",
    "\n",
    "print('The values of the dictionary are: {0}'.format(list(d1.values())))"
   ]
  },
  {
   "cell_type": "markdown",
   "metadata": {},
   "source": [
    "**Example:** instead of the index for a list, inserting the key in the brackets `[]` returns the associated value."
   ]
  },
  {
   "cell_type": "code",
   "execution_count": 52,
   "metadata": {},
   "outputs": [],
   "source": [
    "print(d1['a'])\n",
    "\n",
    "print(d1['b'])\n",
    "\n",
    "print(d1[3])"
   ]
  },
  {
   "cell_type": "markdown",
   "metadata": {},
   "source": [
    "**Example:** one method for adding entries to the dictionary, and two different methods for deleting entries. Note that the `pop` method returns the deleted value of the dictionary."
   ]
  },
  {
   "cell_type": "code",
   "execution_count": 53,
   "metadata": {},
   "outputs": [],
   "source": [
    "d1['c'] = 'red' # Adding a dictionary entry.\n",
    "print(d1)\n",
    "\n",
    "del d1['a'] # Deleting a dictionary entry.\n",
    "print(d1)\n",
    "\n",
    "popped_value = d1.pop(3) # Deleting a dictionary entry using the `pop` method.\n",
    "print('The deleted value is: {0}.'.format(popped_value))\n",
    "print(d1)"
   ]
  },
  {
   "cell_type": "markdown",
   "metadata": {},
   "source": [
    "**Example:** one often encounters a situation with two equal-length lists (or tuples) that need to be combined into a single dictionary. One can use the built-in function `zip`, which creates a so-called iterator over 2-tuples. Iterators are subtle objects, but for now all you need to know is that you can turn them into an iterable object by (for example) applying `list` to them. Subsequently, the built-in function `dict` creates a dictionary."
   ]
  },
  {
   "cell_type": "code",
   "execution_count": 54,
   "metadata": {},
   "outputs": [],
   "source": [
    "list1 = ['a','b','c']\n",
    "list2 = [1,2,3]\n",
    "\n",
    "print(list(zip(list1,list2))) # Showing that the zip function creates a 'list' of tuples of length 2.\n",
    "\n",
    "dict(zip(list1,list2))"
   ]
  },
  {
   "cell_type": "markdown",
   "metadata": {},
   "source": [
    "**Exercise 20:** use the above example to create two dictionaries. The first dictionary, called `digit_to_word`, has as keys the digits (integers) 0,1,...,9 and as values the words zero, one,...,nine. For the second dictionary, called `word_to_digit`, the words are the keys and the integers are the values. Print the resulting dictionaries."
   ]
  },
  {
   "cell_type": "code",
   "execution_count": 55,
   "metadata": {},
   "outputs": [],
   "source": []
  },
  {
   "cell_type": "markdown",
   "metadata": {},
   "source": [
    "## Sets\n",
    "\n",
    "A set is an unordered list of unique Python objects."
   ]
  },
  {
   "cell_type": "markdown",
   "metadata": {},
   "source": [
    "**Example:** a set can be created in two ways. One can use curly braces or the built-in function `set`. Note that duplicates are deleted automatically."
   ]
  },
  {
   "cell_type": "code",
   "execution_count": 56,
   "metadata": {},
   "outputs": [],
   "source": [
    "set1 = {4,7,1,4,6} \n",
    "set2 = set([1,2,3,4,5,4,3,2,1])\n",
    "set3 = set('abcde')\n",
    "\n",
    "print(set1)\n",
    "print(set2)\n",
    "print(set3)"
   ]
  },
  {
   "cell_type": "markdown",
   "metadata": {},
   "source": [
    "**Example:** adding elements to the set."
   ]
  },
  {
   "cell_type": "code",
   "execution_count": 57,
   "metadata": {},
   "outputs": [],
   "source": [
    "set1.add(8)\n",
    "set2.add(5) # Since 5 is already in set2, this operation does not change the set.\n",
    "\n",
    "print(set1)\n",
    "print(set2)"
   ]
  },
  {
   "cell_type": "markdown",
   "metadata": {},
   "source": [
    "**Example:** basic operations from set theory are available to objects of the `set` type through methods."
   ]
  },
  {
   "cell_type": "code",
   "execution_count": 58,
   "metadata": {},
   "outputs": [],
   "source": [
    "print(set1.union(set2))\n",
    "\n",
    "print(set1.intersection(set2))\n",
    "\n",
    "set1.issubset(set2)"
   ]
  },
  {
   "cell_type": "markdown",
   "metadata": {},
   "source": [
    "# 3. Control flow\n",
    "\n",
    "Control flow statements are an essential part of Python. In this section we introduce to most important ones."
   ]
  },
  {
   "cell_type": "markdown",
   "metadata": {},
   "source": [
    "## `if-elif-else` statements\n",
    "\n",
    "Python uses colons `:` to end a conditional statement and tabs for expressions that depend on the conditional statement."
   ]
  },
  {
   "cell_type": "markdown",
   "metadata": {},
   "source": [
    "**Exercise 21:** make sure you understand the `if-elif-else` structure below by running the code for different values of `x`. Also note the use of colons `:` and tabs.\n",
    "* The `if` block is executed if and only if the first condition is true.\n",
    "* The optional `elif` (short for 'else if') block is executed if and only if the first condition is false and the second one is true. There could be more than `elif` blocks.\n",
    "* The optional `else` block is executed if and only if none of the others was. "
   ]
  },
  {
   "cell_type": "code",
   "execution_count": 59,
   "metadata": {},
   "outputs": [],
   "source": [
    "x = 3\n",
    "\n",
    "if x < 0:\n",
    "    print(\"You have entered a negative number.\")\n",
    "elif x > 9:\n",
    "    print(\"You have entered a number greater than 9.\")\n",
    "else:\n",
    "    print(\"Thank you. You entered %s.\" %x)"
   ]
  },
  {
   "cell_type": "markdown",
   "metadata": {},
   "source": [
    "**Exercise 22:** use the variable `y` to define a Python object. If `y` is a list or a string, the code should proceed as follows: if `y` has length less than or equal to 5, print `y`; if `y` has length between 6 and 10, print the first 5 elements of `y`; if the list is longer than 10, print the sentence 'Wrong size.'. If `y` is neither a list or a string, print the sentence 'This is not a list or a string.'. Make sure your code processes all options correctly by explicitely testing for different `y`. (Hint: use the built-in function `isinstance` twice to test whether `y` is a list or a string.)"
   ]
  },
  {
   "cell_type": "code",
   "execution_count": 60,
   "metadata": {},
   "outputs": [],
   "source": [
    "y = [6,8,3,'snake',0,2,'33',1.2,4,'python']\n",
    "#y = 'kddffasfdfsdfafef'\n",
    "#y = 'kddffasdf'\n",
    "#y = 12\n",
    "#y = 12345678901234567890\n",
    "#y = ('python', 123, [1,2,3,4])\n",
    "\n"
   ]
  },
  {
   "cell_type": "markdown",
   "metadata": {},
   "source": [
    "## `while` loops\n",
    "\n",
    "`while` loops are similar to `if-else` statements, but jump back to the `while` statement after the `while` block is finished. There are two ways to exit a `while` loop: when the condition becomes false or with a `break` statement. In the first case, an optional `else` block can be executed."
   ]
  },
  {
   "cell_type": "markdown",
   "metadata": {},
   "source": [
    "**Example:** a simple `while` loop. Note that the integer 4 is not printed anymore."
   ]
  },
  {
   "cell_type": "code",
   "execution_count": 61,
   "metadata": {},
   "outputs": [],
   "source": [
    "i=0\n",
    "\n",
    "while i < 4:\n",
    "    print(i)\n",
    "    i += 1"
   ]
  },
  {
   "cell_type": "markdown",
   "metadata": {},
   "source": [
    "**Exercise 23:** run the code in the cell below, try different inputs and make sure you understand what the code does. Then, copy the code to the second cell below and adjust this code such that it can deal with float inputs as well, instead of giving an error. If the input is a float number, the code should tell the user 'This is not an integer.' and start over again. (Hint: observe that the `input` function returns a string. If the string contains a number that is non-integer, acting with `int` on it gives an error. Use `float` instead of `int` and subsequently use the float method `is_integer` to check whether the float is a whole number or not.)"
   ]
  },
  {
   "cell_type": "code",
   "execution_count": 62,
   "metadata": {},
   "outputs": [],
   "source": [
    "x = -1\n",
    "\n",
    "while x < 0 or x > 9:\n",
    "    x = int(input(\"Enter an integer between 0 and 9: \")) # The built-in function input enables realtime user input.\n",
    "    if x < 0:\n",
    "        print(\"You have entered a negative number.\")\n",
    "    elif x > 9:\n",
    "        print(\"You have entered a number greater than 9.\")\n",
    "else:\n",
    "    print(\"Thank you. You entered %s.\" % x)"
   ]
  },
  {
   "cell_type": "code",
   "execution_count": 63,
   "metadata": {},
   "outputs": [],
   "source": []
  },
  {
   "cell_type": "markdown",
   "metadata": {},
   "source": [
    "**Example:** this is an alternative implementation, using `continue` (which skips the remainder of the loop and goes back to `while`) and `break`. The `break` only exits the innermost loop. Potential other loops are not exited."
   ]
  },
  {
   "cell_type": "code",
   "execution_count": 64,
   "metadata": {},
   "outputs": [],
   "source": [
    "while True:  # Change to True to run.\n",
    "    x = float(input(\"Enter an integer between 0 and 9: \"))\n",
    "    if x.is_integer():\n",
    "        if x < 0:\n",
    "            print(\"You have entered a negative number.\")\n",
    "            continue  # Skip remainder of loop body and go back to `while`.\n",
    "        if x > 9:\n",
    "            print(\"You have entered a number greater than 9.\")\n",
    "            continue\n",
    "    else:\n",
    "        print(\"This is not an integer.\")\n",
    "        continue\n",
    "    x = int(x)\n",
    "    print(\"Thank you. You entered %s.\" % x)\n",
    "    break  # Exit innermost enclosing loop."
   ]
  },
  {
   "cell_type": "markdown",
   "metadata": {},
   "source": [
    "## `for` loops\n",
    "\n",
    "A `for` loop can only iterate over iterable objects, or simply called iterables. Examples of iterables are lists, strings and tuples:"
   ]
  },
  {
   "cell_type": "markdown",
   "metadata": {},
   "source": [
    "**Example:** a simple `for` loop iterating over a string, including a conditional `break`. In this example `letter` is called the loop variable. Every time the loop body is executed, the loop variable assumes the next value of the sequence."
   ]
  },
  {
   "cell_type": "code",
   "execution_count": 65,
   "metadata": {
    "scrolled": true
   },
   "outputs": [],
   "source": [
    "for letter in \"Python\":\n",
    "    if letter == 'o':\n",
    "        break\n",
    "    print(letter)"
   ]
  },
  {
   "cell_type": "markdown",
   "metadata": {
    "slideshow": {
     "slide_type": "slide"
    }
   },
   "source": [
    "**Example:** `for` loops are typically used to execute a block of code a pre-specified number of times. Note that for a conditional block consisting of a single line, after the colon there is no need for an Enter and Tab. "
   ]
  },
  {
   "cell_type": "code",
   "execution_count": 66,
   "metadata": {},
   "outputs": [],
   "source": [
    "squares = [] # Creating an empty list, which will be filled in the for loop.\n",
    "\n",
    "for i in [0,1,2,3,4,5,6,7,8,9]: squares.append(i**2)\n",
    "    \n",
    "print(squares)"
   ]
  },
  {
   "cell_type": "markdown",
   "metadata": {},
   "source": [
    "**Example:** the built-in function `range` creates a lazy iterable object. It is lazy because the elements of the object are only created when they are called. Ranges can be turned into other iterable objects, like lists. Iterating over them in a `for`-loop can be done directly."
   ]
  },
  {
   "cell_type": "code",
   "execution_count": 67,
   "metadata": {},
   "outputs": [],
   "source": [
    "print(list(range(10))) # Turning a range into a list. \n",
    "print(tuple(range(10))) # Turning a range into a tuple.\n",
    "print(set(range(10))) # Turning a range into a set.\n",
    "print(list(range(3,10))) # Defining a range with an (optional) starting point and a (required) end point.\n",
    "print(list(range(3,10,3))) # Defining a range with an (optional) step size.\n",
    "\n",
    "for i in range(3,10,3): # Using a for loop to iterate over a range.\n",
    "    print(i)"
   ]
  },
  {
   "cell_type": "markdown",
   "metadata": {},
   "source": [
    "**Exercise 24:** what is computed in the cell below?"
   ]
  },
  {
   "cell_type": "code",
   "execution_count": 68,
   "metadata": {},
   "outputs": [],
   "source": [
    "n = 7\n",
    "f = 1\n",
    "\n",
    "for i in range(n):\n",
    "    f *= i+1\n",
    "    \n",
    "print(f)\n",
    "\n"
   ]
  },
  {
   "cell_type": "markdown",
   "metadata": {},
   "source": [
    "**Exercise 25:** use the earlier defined `digit_to_word` dictionary to print all digits (0,1,...,9) whose corresponding word as defined in `digit_to_word` consists of exactly four letters. Print both the digit and the word. (Hint: a dictionary is already an iterable object. In a for loop the keys become the loop variable.)"
   ]
  },
  {
   "cell_type": "code",
   "execution_count": 69,
   "metadata": {},
   "outputs": [],
   "source": []
  },
  {
   "cell_type": "markdown",
   "metadata": {},
   "source": [
    "## List, set and dict comprehensions\n",
    "\n",
    "Comprehensions are syntactical expressions for creating new lists, sets or dictionaries. They are used often, because they make a code concise and readable."
   ]
  },
  {
   "cell_type": "markdown",
   "metadata": {},
   "source": [
    "**Example:** a list comprehension is always of the same form, with an (optional) condition at the end. "
   ]
  },
  {
   "cell_type": "code",
   "execution_count": 70,
   "metadata": {},
   "outputs": [],
   "source": [
    "print([x**(1/2) for x in range(6)])\n",
    "\n",
    "list1 = ['cat', (1,'dog'), 999, 'rabbit', str(22)]\n",
    "\n",
    "print([x.upper() for x in list1 if isinstance(x, str)])  # List comprehension with a conditional expression."
   ]
  },
  {
   "cell_type": "markdown",
   "metadata": {},
   "source": [
    "**Exercise 26:** create a list with all powers of 3 between 100 and 100000 (including the boundaries of the interval)."
   ]
  },
  {
   "cell_type": "code",
   "execution_count": 71,
   "metadata": {},
   "outputs": [],
   "source": []
  },
  {
   "cell_type": "markdown",
   "metadata": {},
   "source": [
    "**Exercise 27:** use list comprehension to calculate the average length of the words in `list2` defined below."
   ]
  },
  {
   "cell_type": "code",
   "execution_count": 72,
   "metadata": {},
   "outputs": [],
   "source": [
    "list2 = ['a','as','bat','car','dove','python','aligator']\n"
   ]
  },
  {
   "cell_type": "markdown",
   "metadata": {},
   "source": [
    "**Exercise 28:** set comprehension has the same syntax as list comprehension (with the `[]` replaced by `{}`). Use set comprehension to get a list of occuring lengths of the words in `list2`."
   ]
  },
  {
   "cell_type": "code",
   "execution_count": 73,
   "metadata": {},
   "outputs": [],
   "source": []
  },
  {
   "cell_type": "markdown",
   "metadata": {},
   "source": [
    "**Exercise 29:** dict comprehension has the same syntax as set comprehension (obviously, the expression part will now have the form `key : value`). Create a dictionary with the words of `list2` as keys and the length of the words as values. Exclude words that have less than 3 characters. (Hint: see p. 67 of McKinney)"
   ]
  },
  {
   "cell_type": "code",
   "execution_count": 74,
   "metadata": {},
   "outputs": [],
   "source": []
  },
  {
   "cell_type": "markdown",
   "metadata": {},
   "source": [
    "# 4. Binding names and mutable/immutable objects\n",
    "\n",
    "Expressions of the form `name1 = object1` assign names (`name1`) to Python objects (`object1`). The names are also called variables and instead of assigning we talk of binding. What happens when you bind a name to an object, is that the Python object is stored in the memory of your machine and the name/variable is a reference to the object stored in the memory. When you execute `name2 = name1`, then both names are referring to the same object in memory (there is no copy of the object created).\n",
    "\n",
    "There is a fundamental difference between mutable object types and immutable object types. After binding a name to a mutable object (i.e. store this object in the memory of your machine), the object can still be changed while keeping the same location in the memory of your machine and keeping the same name that is referring to this object. For immutable objects, this is not possible. \"Changing\" an immutable object always means creating a new object in memory. The name will subsequently refer to the new object. Examples of mutable objects are lists, dicts and NumPy arrays (see below). Examples of immutable objects are ints, strings and tuples."
   ]
  },
  {
   "cell_type": "markdown",
   "metadata": {},
   "source": [
    "**Example:** run the cell below. In this example, the variables `a` and `b` are referring to the same object in the sense that they are associated with the same object in the memory of your machine. This is not the case for `c`. Notice that by appending 4 to `a`, one merely changes the already existing object that both `a` and `b` are referring to. One does not create a new object. Hence `b` is now referring to a list of length 4."
   ]
  },
  {
   "cell_type": "code",
   "execution_count": 75,
   "metadata": {
    "scrolled": true
   },
   "outputs": [],
   "source": [
    "a = [1,2,3]\n",
    "b = a\n",
    "c = [1,2,3]\n",
    "a.append(4)\n",
    "\n",
    "print(a)\n",
    "print(b)\n",
    "print(c)"
   ]
  },
  {
   "cell_type": "markdown",
   "metadata": {},
   "source": [
    "**Example:** run the cell below. Notice a fundamental difference with the previous example. By adding 1 to the object that `a` is referring to, one creates a new object in the memory of your machine. `a` now refers to the new object (an integer with value 5), while `b` still refers to the old object. Actually, `b` and `c` are referring to the same object: it is the unique integer type object with value 4. One can verify this by using the built-in function `id`, which gives the integer that is guaranteed to be unique for the object during its lifetime."
   ]
  },
  {
   "cell_type": "code",
   "execution_count": 76,
   "metadata": {},
   "outputs": [],
   "source": [
    "a = 4\n",
    "b = a\n",
    "c = 4\n",
    "\n",
    "a += 1 # In this line, one creates a new object in the memory of the machine.\n",
    "\n",
    "print(a)\n",
    "print(b)\n",
    "print(c)\n",
    "\n",
    "print(id(a))\n",
    "print(id(b))\n",
    "print(id(c))"
   ]
  },
  {
   "cell_type": "markdown",
   "metadata": {},
   "source": [
    "**Exercise 30:** although a tuple is immutable, the elements of a tuple can be of mutable type. Verify this by appending the integer 4 to the list in the tuple `t1` defined below and printing `t1` afterwards."
   ]
  },
  {
   "cell_type": "code",
   "execution_count": 77,
   "metadata": {},
   "outputs": [],
   "source": [
    "t1 = (3.4, 'abc', [1,2,3], {'a' : 'Amsterdam', 'b' : 'Berlin'})\n",
    "\n"
   ]
  },
  {
   "cell_type": "markdown",
   "metadata": {},
   "source": [
    "## Clearing\n",
    "\n",
    "It is also possible to delete an object from memory. The name(s) that was/were bound to that object, become(s) free again."
   ]
  },
  {
   "cell_type": "markdown",
   "metadata": {},
   "source": [
    "**Example:** one can clear memory by using `del`."
   ]
  },
  {
   "cell_type": "code",
   "execution_count": 78,
   "metadata": {},
   "outputs": [],
   "source": [
    "a = 'abc'\n",
    "b = ['a','b','c']\n",
    "c = 'a', 'b', 'c'\n",
    "\n",
    "del b, c\n",
    "\n",
    "print(a)\n",
    "try:\n",
    "    print(b)\n",
    "except:\n",
    "    pass\n",
    "try:\n",
    "    print(c)\n",
    "except:\n",
    "    pass"
   ]
  },
  {
   "cell_type": "markdown",
   "metadata": {},
   "source": [
    "# 5. Functions\n",
    "\n",
    "Besides built-in functions and methods, Python also allows for user-defined functions. One of the main advantages of functions is that they make code better readable and amendable. Whenever you (potentially) need to execute a certain routine in your code more than once, it is probably useful to convey it in a function. In this course, we will heavily rely on user-defined functions."
   ]
  },
  {
   "cell_type": "markdown",
   "metadata": {
    "slideshow": {
     "slide_type": "slide"
    }
   },
   "source": [
    "## Defining Functions\n",
    "\n",
    "User-defined functions are declared using the `def` keyword. The output of a function is declared by the `return` statement."
   ]
  },
  {
   "cell_type": "markdown",
   "metadata": {},
   "source": [
    "**Example:** functions can have zero, one, two, etc., arguments. The arguments are ordered. Here an example of a function with two arguments. In the first cell we define the function, while in the second cell we call it. Note the use of the colon and tabs."
   ]
  },
  {
   "cell_type": "code",
   "execution_count": 79,
   "metadata": {},
   "outputs": [],
   "source": [
    "def mypower(a, b):\n",
    "    return a**b"
   ]
  },
  {
   "cell_type": "code",
   "execution_count": 80,
   "metadata": {},
   "outputs": [],
   "source": [
    "mypower(3,2) # Calling the function"
   ]
  },
  {
   "cell_type": "markdown",
   "metadata": {},
   "source": [
    "**Example:** a function can also have multiple output arguments. They are returned as a tuple."
   ]
  },
  {
   "cell_type": "code",
   "execution_count": 5,
   "metadata": {},
   "outputs": [
    {
     "data": {
      "text/plain": [
       "(3, -1)"
      ]
     },
     "execution_count": 5,
     "metadata": {},
     "output_type": "execute_result"
    }
   ],
   "source": [
    "def plusminus(a: int | float, b: int | float):\n",
    "    \"\"\"This is the docstring of the function plusminus.\"\"\"\n",
    "    return a+b, a-b\n",
    "\n",
    "c, d = plusminus(1, 2)\n",
    "\n",
    "c, d"
   ]
  },
  {
   "cell_type": "markdown",
   "metadata": {},
   "source": [
    "**Exercise 31:** run the following cell. Using the `?` gives you information about the object. You can apply the `?` to any Python object to retrieve information. Note the docstring that we created in the example above. Docstrings are a tool for creating a proper documentation of your code, which is indispensable as soon as your Python project grows and/or multiple people need to use the code."
   ]
  },
  {
   "cell_type": "code",
   "execution_count": 6,
   "metadata": {},
   "outputs": [
    {
     "name": "stdout",
     "output_type": "stream",
     "text": [
      "\u001b[1;31mSignature:\u001b[0m \u001b[0mplusminus\u001b[0m\u001b[1;33m(\u001b[0m\u001b[0ma\u001b[0m\u001b[1;33m:\u001b[0m \u001b[0mint\u001b[0m \u001b[1;33m|\u001b[0m \u001b[0mfloat\u001b[0m\u001b[1;33m,\u001b[0m \u001b[0mb\u001b[0m\u001b[1;33m:\u001b[0m \u001b[0mint\u001b[0m \u001b[1;33m|\u001b[0m \u001b[0mfloat\u001b[0m\u001b[1;33m)\u001b[0m\u001b[1;33m\u001b[0m\u001b[1;33m\u001b[0m\u001b[0m\n",
      "\u001b[1;31mDocstring:\u001b[0m This is the docstring of the function plusminus.\n",
      "\u001b[1;31mFile:\u001b[0m      c:\\users\\albin\\appdata\\local\\temp\\ipykernel_20356\\2918927532.py\n",
      "\u001b[1;31mType:\u001b[0m      function"
     ]
    }
   ],
   "source": [
    "plusminus?"
   ]
  },
  {
   "cell_type": "markdown",
   "metadata": {},
   "source": [
    "**Example:** a function can have multiple `return` statements. As soon as a `return` statement is encountered, the function is exited. If no `return` statement is encountered, the function output is `None`."
   ]
  },
  {
   "cell_type": "code",
   "execution_count": 83,
   "metadata": {},
   "outputs": [],
   "source": [
    "def signtest(a):\n",
    "    if a > 0:\n",
    "        return 'Positive'\n",
    "    if a < 0:\n",
    "        return 'Negative'\n",
    "    \n",
    "print(signtest(-1.2))\n",
    "\n",
    "print(signtest(0)) # Function output is None, since no return statement is encountered."
   ]
  },
  {
   "cell_type": "markdown",
   "metadata": {},
   "source": [
    "**Example:** instead of positional arguments, we can also pass keyword arguments (using the `=` sign). For keyword arguments, the order does not matter. But positional arguments always need to precede keyword argument. "
   ]
  },
  {
   "cell_type": "code",
   "execution_count": 84,
   "metadata": {
    "scrolled": true,
    "slideshow": {
     "slide_type": "-"
    }
   },
   "outputs": [],
   "source": [
    "mypower(b=2, a=3) # For keyword arguments the order does not matter."
   ]
  },
  {
   "cell_type": "markdown",
   "metadata": {},
   "source": [
    "**Example:** if often happens that keyword arguments are used in the definition of a function. In that case they are used to specify default values for an argument."
   ]
  },
  {
   "cell_type": "code",
   "execution_count": 85,
   "metadata": {},
   "outputs": [],
   "source": [
    "def mypower(x, y=2):  # Positional (nonkeyword) arguments always precede keyword arguments.\n",
    "    return x**y \n",
    "\n",
    "print(mypower(3))\n",
    "print(mypower(3, 2))\n",
    "print(mypower(3, y=2))\n",
    "print(mypower(y=2, x=3))"
   ]
  },
  {
   "cell_type": "markdown",
   "metadata": {},
   "source": [
    "## Calling scope"
   ]
  },
  {
   "cell_type": "markdown",
   "metadata": {
    "slideshow": {
     "slide_type": "slide"
    }
   },
   "source": [
    "**Example:** variables/name defined inside functions are local (not visible in the calling scope)."
   ]
  },
  {
   "cell_type": "code",
   "execution_count": 86,
   "metadata": {},
   "outputs": [],
   "source": [
    "def f():\n",
    "    z = 1\n",
    "    \n",
    "f() # In this line, we execute a function with zero arguments.\n",
    "\n",
    "try:\n",
    "    z\n",
    "except:\n",
    "    print(\"We get an error, because z is not globally defined.\")"
   ]
  },
  {
   "cell_type": "markdown",
   "metadata": {
    "slideshow": {
     "slide_type": "slide"
    }
   },
   "source": [
    "**Example:** Python uses a *calling convention* known as *call by object reference*. This means that any modifications a function makes to its (mutable) arguments are visible to the caller (i.e., outside the function)."
   ]
  },
  {
   "cell_type": "code",
   "execution_count": 87,
   "metadata": {},
   "outputs": [],
   "source": [
    "x = [1]\n",
    "\n",
    "def f(y):\n",
    "    y[0] = 2\n",
    "    \n",
    "f(x) \n",
    "\n",
    "print('x = {}'.format(x))  # Note that x has been modified in the calling scope."
   ]
  },
  {
   "cell_type": "markdown",
   "metadata": {
    "slideshow": {
     "slide_type": "slide"
    }
   },
   "source": [
    "## Closures\n",
    "\n",
    "Functions are *first class objects* in Python. This implies, inter alia, that functions can return other functions. Such functions are called *closures*, because they close around (capture) the local variables of the enclosing function. Later in the course, we will use closures numerous times."
   ]
  },
  {
   "cell_type": "markdown",
   "metadata": {},
   "source": [
    "**Example:** the function `makemultiplier` returns a function `multiplier` that multiplies a numeric input with a pre-specified factor."
   ]
  },
  {
   "cell_type": "code",
   "execution_count": 88,
   "metadata": {},
   "outputs": [],
   "source": [
    "def makemultiplier(factor):\n",
    "    \n",
    "    def multiplier(x):\n",
    "        return x*factor\n",
    "    \n",
    "    return multiplier\n",
    "\n",
    "timesfive = makemultiplier(5) # Creating a function that multiples times 5.\n",
    "\n",
    "print(timesfive(3))\n",
    "type(timesfive)"
   ]
  },
  {
   "cell_type": "markdown",
   "metadata": {},
   "source": [
    "## Practicing with functions"
   ]
  },
  {
   "cell_type": "markdown",
   "metadata": {},
   "source": [
    "**Exercise 32:** create a function called `digit_word_switch` that translates integer digits (0, 1, ..., 9) to the associated words ('zero', 'one, ..., 'nine') and vice versa. If the input is neither a valid digit, nor a valid word, the function should print the sentence 'Your input cannot be interpreted' and return `None`. To test your function, run the second cell below and inspect the output. (Hint: use the earlier defined dictionaries `digit_to_word` and `word_to_digit`)."
   ]
  },
  {
   "cell_type": "code",
   "execution_count": 89,
   "metadata": {},
   "outputs": [],
   "source": []
  },
  {
   "cell_type": "code",
   "execution_count": 90,
   "metadata": {},
   "outputs": [],
   "source": [
    "test_set = [0, 'four', -3, 'nine', 9, [2], 'Two',7,{2}, 'abc']\n",
    "\n",
    "try:\n",
    "    [digit_word_switch(i) for i in test_set]\n",
    "except:\n",
    "    pass"
   ]
  },
  {
   "cell_type": "markdown",
   "metadata": {},
   "source": [
    "**Example:** the function `error` computes the mean squared error ('mse') between two equal-length lists of numeric values. One can think of them as the observed data and the predicted data based on some model. "
   ]
  },
  {
   "cell_type": "code",
   "execution_count": 91,
   "metadata": {},
   "outputs": [],
   "source": [
    "observed_data = [1.0, 1.22, -2, 4.3, 9, 0.5, -1.1, -3.1, -1.2, 2.22, -4.3, 1, 11.5, 1] # Example data\n",
    "predicted_data1 = [1.1, 1.2, 2.1, 4.1, 8, 1.2, -1.4, -3.2, -1.1, 2, -4.3, 1, 10.2, 1.001] # Example data\n",
    "predicted_data2 = [1.1, '1.2', 2.1, 4.1, 8, 1.2, None, -3.2, -1.1, 2, -4.3, 1, 10.2, 1.001] # Example data\n",
    "\n",
    "def error(observed_data, predicted_data, error_function='mse'):\n",
    "    \n",
    "    if len(observed_data) != len(predicted_data):\n",
    "        print('Lengths of prediction and real data do not match.')\n",
    "        return None\n",
    "    \n",
    "    n = len(observed_data)\n",
    "    differences = [predicted_data[i]-observed_data[i] for i in range(n)]\n",
    "    \n",
    "    if error_function == 'mse':\n",
    "        return sum([x**2 for x in differences])/n        \n",
    "\n",
    "error(observed_data, predicted_data1) # Testing the function on the example data."
   ]
  },
  {
   "cell_type": "markdown",
   "metadata": {},
   "source": [
    "**Exercise 33:** improve the function `error` such that:\n",
    "* it checks whether all objects in the input lists are integer or float. If this is not the case, then it prints 'Input data is corrupted' and returns `None`. Check your adjustments by using `prediction_data2` as one of the inputs.\n",
    "* depending on the keyword argument ``error_function=``, it can also calculate the root mean squared error ('rmse'), the mean absolute error ('mae') and the bias ('bias'). The latter is simply the average difference between the predicted and observed values."
   ]
  },
  {
   "cell_type": "code",
   "execution_count": 92,
   "metadata": {},
   "outputs": [],
   "source": []
  },
  {
   "cell_type": "markdown",
   "metadata": {},
   "source": [
    "# [OPTIONAL] Advanced material about functions\n",
    "\n",
    "The concepts below are not necessary for this course, but could be useful."
   ]
  },
  {
   "cell_type": "markdown",
   "metadata": {
    "slideshow": {
     "slide_type": "slide"
    }
   },
   "source": [
    "## Nested Functions\n",
    "\n",
    "Functions can be defined inside other functions. They will only be visible to the enclosing function. Nested functions can see variables defined in the enclosing function."
   ]
  },
  {
   "cell_type": "code",
   "execution_count": 93,
   "metadata": {},
   "outputs": [],
   "source": [
    "def mypower(x, y):\n",
    "    \n",
    "    def helper():     # No need to pass in x and y:\n",
    "        return x**y   # The nested function can see them!   \n",
    "    \n",
    "    a = helper()\n",
    "    return a\n",
    "\n",
    "\n",
    "mypower(2, 3)"
   ]
  },
  {
   "cell_type": "markdown",
   "metadata": {
    "slideshow": {
     "slide_type": "slide"
    }
   },
   "source": [
    "## Splatting and Slurping\n",
    "\n",
    "Splatting: passing the elements of a sequence into a function as positional arguments, one by one."
   ]
  },
  {
   "cell_type": "code",
   "execution_count": 94,
   "metadata": {
    "slideshow": {
     "slide_type": "-"
    }
   },
   "outputs": [],
   "source": [
    "def mypower(x, y): \n",
    "    return x**y \n",
    "\n",
    "args = [2, 3]  # A list or a tuple\n",
    "mypower(*args)  # Splat (unpack) args into mypower as positional arguments."
   ]
  },
  {
   "cell_type": "markdown",
   "metadata": {},
   "source": [
    "We can splat keyword arguments too, but we need to use a `dict` (key-value store)."
   ]
  },
  {
   "cell_type": "code",
   "execution_count": 95,
   "metadata": {},
   "outputs": [],
   "source": [
    "kwargs = {'y': 3, 'x': 2}\n",
    "\n",
    "mypower(**kwargs)  # Splat keyword arguments"
   ]
  },
  {
   "cell_type": "markdown",
   "metadata": {
    "slideshow": {
     "slide_type": "slide"
    }
   },
   "source": [
    "Slurping allows us to create *vararg* functions: functions that can be called with any number of positional and/or keyword arguments. In the example below, the asterisk means \"collect all (remaining) positional arguments into a tuple\". The double asterisk means \"collect all (remaining) keyword arguments into a dict\"."
   ]
  },
  {
   "cell_type": "code",
   "execution_count": 96,
   "metadata": {},
   "outputs": [],
   "source": [
    "def myfunc(*myargs, **mykwargs):\n",
    "    \n",
    "    for (i, a) in enumerate(myargs): \n",
    "        print(\"The %sth positional argument was %s.\" % (i, a))\n",
    "    for a in mykwargs: \n",
    "        print(\"Got keyword argument %s=%s.\" % (a, mykwargs[a]))    \n",
    "        \n",
    "myfunc(0, 1, x=2, y=3)"
   ]
  },
  {
   "cell_type": "markdown",
   "metadata": {
    "slideshow": {
     "slide_type": "slide"
    }
   },
   "source": [
    "## Anonymous (lambda) functions\n",
    "\n",
    "Anonymous functions are functions without a name attribute and whose function body is a single expression. They are often useful for functions that are needed only once (e.g., to return from a function, or to pass to a function)."
   ]
  },
  {
   "cell_type": "markdown",
   "metadata": {},
   "source": [
    "To illustrate this, the closure example can be written as:"
   ]
  },
  {
   "cell_type": "code",
   "execution_count": 97,
   "metadata": {},
   "outputs": [],
   "source": [
    "def makemultiplier(factor):\n",
    "\n",
    "    return lambda x: x*factor\n",
    "\n",
    "timesfive = makemultiplier(5)\n",
    "timesfive(3)"
   ]
  },
  {
   "cell_type": "markdown",
   "metadata": {},
   "source": [
    "Suppose you want to order a list of strings by the number of distinct letters in each string, with the largest number of distinct letters first:"
   ]
  },
  {
   "cell_type": "code",
   "execution_count": 98,
   "metadata": {},
   "outputs": [],
   "source": [
    "cities = [\"amsterdam\", \"tokio\", \"honolulu\", \"york\", \"paris\"]\n",
    "\n",
    "cities.sort(key=lambda x: len(set(list(x))), reverse=True)\n",
    "\n",
    "cities"
   ]
  },
  {
   "cell_type": "markdown",
   "metadata": {},
   "source": [
    "## Applying a function element-wise to a list\n",
    "\n",
    "If you want to apply a function element-wise to the objects of a list, one can use the built-in `map` function of the Python Standard Library."
   ]
  },
  {
   "cell_type": "code",
   "execution_count": 99,
   "metadata": {},
   "outputs": [],
   "source": [
    "list(map(makemultiplier(3), range(10)))"
   ]
  },
  {
   "cell_type": "code",
   "execution_count": 100,
   "metadata": {},
   "outputs": [],
   "source": [
    "print(list(map(lambda x: x**(1/2), range(0,101,10))))"
   ]
  }
 ],
 "metadata": {
  "kernelspec": {
   "display_name": "Python 3 (ipykernel)",
   "language": "python",
   "name": "python3"
  },
  "language_info": {
   "codemirror_mode": {
    "name": "ipython",
    "version": 3
   },
   "file_extension": ".py",
   "mimetype": "text/x-python",
   "name": "python",
   "nbconvert_exporter": "python",
   "pygments_lexer": "ipython3",
   "version": "3.11.9"
  },
  "livereveal": {
   "start_slideshow_at": "selected"
  }
 },
 "nbformat": 4,
 "nbformat_minor": 2
}
